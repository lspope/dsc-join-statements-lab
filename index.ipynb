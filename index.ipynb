{
 "cells": [
  {
   "cell_type": "markdown",
   "metadata": {},
   "source": [
    "# Join Statements - Lab\n",
    "\n",
    "## Introduction\n",
    "\n",
    "In this lab, you'll practice your knowledge of `JOIN` statements, using various types of joins and various methods for specifying the links between them.\n",
    "\n",
    "## Objectives\n",
    "\n",
    "You will be able to:\n",
    "* Write SQL queries that make use of various types of joins\n",
    "* Compare and contrast the various types of joins\n",
    "* Discuss how primary and foreign keys are used in SQL\n",
    "* Decide and perform whichever type of join is best for retrieving desired data"
   ]
  },
  {
   "cell_type": "markdown",
   "metadata": {},
   "source": [
    "## CRM Schema\n",
    "\n",
    "In almost all cases, rather than just working with a single table you will typically need data from multiple tables. \n",
    "Doing this requires the use of **joins** using shared columns from the two tables. \n",
    "\n",
    "In this lab, you'll use the same customer relationship management (CRM) database that you saw from the previous lesson.\n",
    "<img src='images/Database-Schema.png' width=\"600\">"
   ]
  },
  {
   "cell_type": "markdown",
   "metadata": {},
   "source": [
    "## Connecting to the Database\n",
    "Import the necessary packages and connect to the database `'data.sqlite'`."
   ]
  },
  {
   "cell_type": "code",
   "execution_count": 5,
   "metadata": {},
   "outputs": [],
   "source": [
    "# Your code herei\n",
    "import sqlite3\n",
    "import pandas as pd\n",
    "\n",
    "conn = sqlite3.Connection('data.sqlite')\n",
    "cur = conn.cursor()"
   ]
  },
  {
   "cell_type": "markdown",
   "metadata": {},
   "source": [
    "## Display the names of all the employees in Boston \n",
    "\n",
    "Hint: join the employees and offices tables."
   ]
  },
  {
   "cell_type": "code",
   "execution_count": 9,
   "metadata": {},
   "outputs": [
    {
     "data": {
      "text/plain": [
       "[('Julie', 'Firrelli'), ('Steve', 'Patterson')]"
      ]
     },
     "execution_count": 9,
     "metadata": {},
     "output_type": "execute_result"
    }
   ],
   "source": [
    "# Your code here\n",
    "cur.execute(\"\"\"SELECT firstName, lastName \n",
    "               FROM employees JOIN offices\n",
    "               USING (officeCode)\n",
    "               WHERE offices.city = 'Boston'\n",
    "               ;\"\"\").fetchall()"
   ]
  },
  {
   "cell_type": "code",
   "execution_count": 10,
   "metadata": {},
   "outputs": [
    {
     "data": {
      "text/html": [
       "<div>\n",
       "<style scoped>\n",
       "    .dataframe tbody tr th:only-of-type {\n",
       "        vertical-align: middle;\n",
       "    }\n",
       "\n",
       "    .dataframe tbody tr th {\n",
       "        vertical-align: top;\n",
       "    }\n",
       "\n",
       "    .dataframe thead th {\n",
       "        text-align: right;\n",
       "    }\n",
       "</style>\n",
       "<table border=\"1\" class=\"dataframe\">\n",
       "  <thead>\n",
       "    <tr style=\"text-align: right;\">\n",
       "      <th></th>\n",
       "      <th>firstName</th>\n",
       "      <th>lastName</th>\n",
       "    </tr>\n",
       "  </thead>\n",
       "  <tbody>\n",
       "    <tr>\n",
       "      <th>0</th>\n",
       "      <td>Julie</td>\n",
       "      <td>Firrelli</td>\n",
       "    </tr>\n",
       "    <tr>\n",
       "      <th>1</th>\n",
       "      <td>Steve</td>\n",
       "      <td>Patterson</td>\n",
       "    </tr>\n",
       "  </tbody>\n",
       "</table>\n",
       "</div>"
      ],
      "text/plain": [
       "  firstName   lastName\n",
       "0     Julie   Firrelli\n",
       "1     Steve  Patterson"
      ]
     },
     "execution_count": 10,
     "metadata": {},
     "output_type": "execute_result"
    }
   ],
   "source": [
    "q = \"\"\"SELECT firstName, lastName \n",
    "               FROM employees JOIN offices\n",
    "               USING (officeCode)\n",
    "               WHERE offices.city = 'Boston'\n",
    "               ;\"\"\"\n",
    "df = pd.read_sql(q, conn)\n",
    "df"
   ]
  },
  {
   "cell_type": "markdown",
   "metadata": {},
   "source": [
    "## Are there any offices that have zero employees?\n",
    "Hint: Combine the employees and offices tables and use a group by."
   ]
  },
  {
   "cell_type": "code",
   "execution_count": 14,
   "metadata": {},
   "outputs": [
    {
     "data": {
      "text/plain": [
       "[(27, 'Boston')]"
      ]
     },
     "execution_count": 14,
     "metadata": {},
     "output_type": "execute_result"
    }
   ],
   "source": [
    "cur.execute(\"\"\"SELECT offices.officeCode, offices.city\n",
    "               FROM offices LEFT JOIN employees\n",
    "               USING (officeCode)\n",
    "               WHERE employees.officeCode IS NULL\n",
    "               GROUP BY officeCode\n",
    "               ;\"\"\").fetchall()"
   ]
  },
  {
   "cell_type": "code",
   "execution_count": 16,
   "metadata": {},
   "outputs": [
    {
     "data": {
      "text/html": [
       "<div>\n",
       "<style scoped>\n",
       "    .dataframe tbody tr th:only-of-type {\n",
       "        vertical-align: middle;\n",
       "    }\n",
       "\n",
       "    .dataframe tbody tr th {\n",
       "        vertical-align: top;\n",
       "    }\n",
       "\n",
       "    .dataframe thead th {\n",
       "        text-align: right;\n",
       "    }\n",
       "</style>\n",
       "<table border=\"1\" class=\"dataframe\">\n",
       "  <thead>\n",
       "    <tr style=\"text-align: right;\">\n",
       "      <th></th>\n",
       "      <th>officeCode</th>\n",
       "      <th>city</th>\n",
       "    </tr>\n",
       "  </thead>\n",
       "  <tbody>\n",
       "    <tr>\n",
       "      <th>0</th>\n",
       "      <td>27</td>\n",
       "      <td>Boston</td>\n",
       "    </tr>\n",
       "  </tbody>\n",
       "</table>\n",
       "</div>"
      ],
      "text/plain": [
       "   officeCode    city\n",
       "0          27  Boston"
      ]
     },
     "execution_count": 16,
     "metadata": {},
     "output_type": "execute_result"
    }
   ],
   "source": [
    "# Your code here\n",
    "q = \"\"\"SELECT offices.officeCode, offices.city\n",
    "               FROM offices LEFT JOIN employees\n",
    "               USING (officeCode)\n",
    "               WHERE employees.officeCode IS NULL\n",
    "               GROUP BY officeCode\n",
    "               ;\"\"\"\n",
    "df = pd.read_sql(q, conn)\n",
    "df"
   ]
  },
  {
   "cell_type": "code",
   "execution_count": 17,
   "metadata": {},
   "outputs": [
    {
     "data": {
      "text/html": [
       "<div>\n",
       "<style scoped>\n",
       "    .dataframe tbody tr th:only-of-type {\n",
       "        vertical-align: middle;\n",
       "    }\n",
       "\n",
       "    .dataframe tbody tr th {\n",
       "        vertical-align: top;\n",
       "    }\n",
       "\n",
       "    .dataframe thead th {\n",
       "        text-align: right;\n",
       "    }\n",
       "</style>\n",
       "<table border=\"1\" class=\"dataframe\">\n",
       "  <thead>\n",
       "    <tr style=\"text-align: right;\">\n",
       "      <th></th>\n",
       "      <th>officeCode</th>\n",
       "      <th>city</th>\n",
       "    </tr>\n",
       "  </thead>\n",
       "  <tbody>\n",
       "    <tr>\n",
       "      <th>0</th>\n",
       "      <td>27</td>\n",
       "      <td>Boston</td>\n",
       "    </tr>\n",
       "  </tbody>\n",
       "</table>\n",
       "</div>"
      ],
      "text/plain": [
       "   officeCode    city\n",
       "0          27  Boston"
      ]
     },
     "execution_count": 17,
     "metadata": {},
     "output_type": "execute_result"
    }
   ],
   "source": [
    "alt_q = \"\"\"SELECT o.officeCode, o.city, COUNT(e.employeeNumber) AS n_employees\n",
    "               FROM offices AS o \n",
    "               LEFT JOIN employees AS e\n",
    "               USING(officeCode)\n",
    "               GROUP BY officeCode\n",
    "               HAVING n_employees = 0;\"\"\"\n",
    "df = pd.read_sql(q, conn)\n",
    "df"
   ]
  },
  {
   "cell_type": "markdown",
   "metadata": {},
   "source": [
    "## Write 3 Questions of your own and answer them"
   ]
  },
  {
   "cell_type": "code",
   "execution_count": null,
   "metadata": {},
   "outputs": [],
   "source": [
    "# Answers will vary\n",
    "# Example: Display the htmlDescription and employee's first and last name for each product that each employee has sold"
   ]
  },
  {
   "cell_type": "code",
   "execution_count": 28,
   "metadata": {},
   "outputs": [
    {
     "data": {
      "text/html": [
       "<div>\n",
       "<style scoped>\n",
       "    .dataframe tbody tr th:only-of-type {\n",
       "        vertical-align: middle;\n",
       "    }\n",
       "\n",
       "    .dataframe tbody tr th {\n",
       "        vertical-align: top;\n",
       "    }\n",
       "\n",
       "    .dataframe thead th {\n",
       "        text-align: right;\n",
       "    }\n",
       "</style>\n",
       "<table border=\"1\" class=\"dataframe\">\n",
       "  <thead>\n",
       "    <tr style=\"text-align: right;\">\n",
       "      <th></th>\n",
       "      <th>productLine</th>\n",
       "      <th>productName</th>\n",
       "      <th>quantityInStock</th>\n",
       "    </tr>\n",
       "  </thead>\n",
       "  <tbody>\n",
       "    <tr>\n",
       "      <th>0</th>\n",
       "      <td>Motorcycles</td>\n",
       "      <td>1960 BSA Gold Star DBD34</td>\n",
       "      <td>15</td>\n",
       "    </tr>\n",
       "    <tr>\n",
       "      <th>1</th>\n",
       "      <td>Classic Cars</td>\n",
       "      <td>1968 Ford Mustang</td>\n",
       "      <td>68</td>\n",
       "    </tr>\n",
       "  </tbody>\n",
       "</table>\n",
       "</div>"
      ],
      "text/plain": [
       "    productLine               productName  quantityInStock\n",
       "0   Motorcycles  1960 BSA Gold Star DBD34               15\n",
       "1  Classic Cars         1968 Ford Mustang               68"
      ]
     },
     "execution_count": 28,
     "metadata": {},
     "output_type": "execute_result"
    }
   ],
   "source": [
    "# Your code here\n",
    "# Display product line name, product name , in stock number for all LOW STOCK (< 100) products\n",
    "\n",
    "df = pd.read_sql(\"\"\"SELECT pl.productLine, p.productName, p.quantityInStock\n",
    "               FROM productlines AS pl\n",
    "               JOIN products AS p\n",
    "               USING(productLine)\n",
    "               WHERE p.quantityInStock < 100\n",
    "               ORDER BY p.quantityInStock;\"\"\", conn)\n",
    "df"
   ]
  },
  {
   "cell_type": "code",
   "execution_count": 34,
   "metadata": {},
   "outputs": [
    {
     "data": {
      "text/html": [
       "<div>\n",
       "<style scoped>\n",
       "    .dataframe tbody tr th:only-of-type {\n",
       "        vertical-align: middle;\n",
       "    }\n",
       "\n",
       "    .dataframe tbody tr th {\n",
       "        vertical-align: top;\n",
       "    }\n",
       "\n",
       "    .dataframe thead th {\n",
       "        text-align: right;\n",
       "    }\n",
       "</style>\n",
       "<table border=\"1\" class=\"dataframe\">\n",
       "  <thead>\n",
       "    <tr style=\"text-align: right;\">\n",
       "      <th></th>\n",
       "      <th>status</th>\n",
       "      <th>orderNumber</th>\n",
       "      <th>orderDate</th>\n",
       "      <th>customerNumber</th>\n",
       "      <th>customerName</th>\n",
       "    </tr>\n",
       "  </thead>\n",
       "  <tbody>\n",
       "    <tr>\n",
       "      <th>0</th>\n",
       "      <td>Cancelled</td>\n",
       "      <td>10167</td>\n",
       "      <td>2003-10-23</td>\n",
       "      <td>448</td>\n",
       "      <td>Scandinavian Gift Ideas</td>\n",
       "    </tr>\n",
       "    <tr>\n",
       "      <th>1</th>\n",
       "      <td>Cancelled</td>\n",
       "      <td>10179</td>\n",
       "      <td>2003-11-11</td>\n",
       "      <td>496</td>\n",
       "      <td>Kelly's Gift Shop</td>\n",
       "    </tr>\n",
       "    <tr>\n",
       "      <th>2</th>\n",
       "      <td>Cancelled</td>\n",
       "      <td>10248</td>\n",
       "      <td>2004-05-07</td>\n",
       "      <td>131</td>\n",
       "      <td>Land of Toys Inc.</td>\n",
       "    </tr>\n",
       "    <tr>\n",
       "      <th>3</th>\n",
       "      <td>Cancelled</td>\n",
       "      <td>10253</td>\n",
       "      <td>2004-06-01</td>\n",
       "      <td>201</td>\n",
       "      <td>UK Collectables, Ltd.</td>\n",
       "    </tr>\n",
       "    <tr>\n",
       "      <th>4</th>\n",
       "      <td>Cancelled</td>\n",
       "      <td>10260</td>\n",
       "      <td>2004-06-16</td>\n",
       "      <td>357</td>\n",
       "      <td>GiftsForHim.com</td>\n",
       "    </tr>\n",
       "    <tr>\n",
       "      <th>...</th>\n",
       "      <td>...</td>\n",
       "      <td>...</td>\n",
       "      <td>...</td>\n",
       "      <td>...</td>\n",
       "      <td>...</td>\n",
       "    </tr>\n",
       "    <tr>\n",
       "      <th>321</th>\n",
       "      <td>Shipped</td>\n",
       "      <td>10412</td>\n",
       "      <td>2005-05-03</td>\n",
       "      <td>141</td>\n",
       "      <td>Euro+ Shopping Channel</td>\n",
       "    </tr>\n",
       "    <tr>\n",
       "      <th>322</th>\n",
       "      <td>Shipped</td>\n",
       "      <td>10413</td>\n",
       "      <td>2005-05-05</td>\n",
       "      <td>175</td>\n",
       "      <td>Gift Depot Inc.</td>\n",
       "    </tr>\n",
       "    <tr>\n",
       "      <th>323</th>\n",
       "      <td>Shipped</td>\n",
       "      <td>10416</td>\n",
       "      <td>2005-05-10</td>\n",
       "      <td>386</td>\n",
       "      <td>L'ordine Souveniers</td>\n",
       "    </tr>\n",
       "    <tr>\n",
       "      <th>324</th>\n",
       "      <td>Shipped</td>\n",
       "      <td>10418</td>\n",
       "      <td>2005-05-16</td>\n",
       "      <td>412</td>\n",
       "      <td>Extreme Desk Decorations, Ltd</td>\n",
       "    </tr>\n",
       "    <tr>\n",
       "      <th>325</th>\n",
       "      <td>Shipped</td>\n",
       "      <td>10419</td>\n",
       "      <td>2005-05-17</td>\n",
       "      <td>382</td>\n",
       "      <td>Salzburg Collectables</td>\n",
       "    </tr>\n",
       "  </tbody>\n",
       "</table>\n",
       "<p>326 rows × 5 columns</p>\n",
       "</div>"
      ],
      "text/plain": [
       "        status  orderNumber   orderDate  customerNumber  \\\n",
       "0    Cancelled        10167  2003-10-23             448   \n",
       "1    Cancelled        10179  2003-11-11             496   \n",
       "2    Cancelled        10248  2004-05-07             131   \n",
       "3    Cancelled        10253  2004-06-01             201   \n",
       "4    Cancelled        10260  2004-06-16             357   \n",
       "..         ...          ...         ...             ...   \n",
       "321    Shipped        10412  2005-05-03             141   \n",
       "322    Shipped        10413  2005-05-05             175   \n",
       "323    Shipped        10416  2005-05-10             386   \n",
       "324    Shipped        10418  2005-05-16             412   \n",
       "325    Shipped        10419  2005-05-17             382   \n",
       "\n",
       "                      customerName  \n",
       "0          Scandinavian Gift Ideas  \n",
       "1                Kelly's Gift Shop  \n",
       "2                Land of Toys Inc.  \n",
       "3            UK Collectables, Ltd.  \n",
       "4                  GiftsForHim.com  \n",
       "..                             ...  \n",
       "321         Euro+ Shopping Channel  \n",
       "322                Gift Depot Inc.  \n",
       "323            L'ordine Souveniers  \n",
       "324  Extreme Desk Decorations, Ltd  \n",
       "325          Salzburg Collectables  \n",
       "\n",
       "[326 rows x 5 columns]"
      ]
     },
     "execution_count": 34,
     "metadata": {},
     "output_type": "execute_result"
    }
   ],
   "source": [
    "# Your code here\n",
    "# display customer order status\n",
    "cur.execute(\"\"\"SELECT  o.status, o.orderNumber, o.orderDate,  c.customerNumber, c.customerName\n",
    "               FROM customers AS c\n",
    "               JOIN orders AS o\n",
    "               USING(customerNumber)\n",
    "               ORDER BY o.status, o.orderDate\n",
    "               ;\"\"\").fetchall()\n",
    "df = pd.read_sql(\"\"\"SELECT  o.status, o.orderNumber, o.orderDate,  c.customerNumber, c.customerName\n",
    "               FROM customers AS c\n",
    "               JOIN orders AS o\n",
    "               USING(customerNumber)\n",
    "               ORDER BY o.status, o.orderDate\n",
    "               ;\"\"\", conn)\n",
    "df"
   ]
  },
  {
   "cell_type": "code",
   "execution_count": 42,
   "metadata": {},
   "outputs": [
    {
     "data": {
      "text/html": [
       "<div>\n",
       "<style scoped>\n",
       "    .dataframe tbody tr th:only-of-type {\n",
       "        vertical-align: middle;\n",
       "    }\n",
       "\n",
       "    .dataframe tbody tr th {\n",
       "        vertical-align: top;\n",
       "    }\n",
       "\n",
       "    .dataframe thead th {\n",
       "        text-align: right;\n",
       "    }\n",
       "</style>\n",
       "<table border=\"1\" class=\"dataframe\">\n",
       "  <thead>\n",
       "    <tr style=\"text-align: right;\">\n",
       "      <th></th>\n",
       "      <th>customerName</th>\n",
       "      <th>amount</th>\n",
       "    </tr>\n",
       "  </thead>\n",
       "  <tbody>\n",
       "    <tr>\n",
       "      <th>0</th>\n",
       "      <td>Euro+ Shopping Channel</td>\n",
       "      <td>120166.58</td>\n",
       "    </tr>\n",
       "    <tr>\n",
       "      <th>1</th>\n",
       "      <td>Euro+ Shopping Channel</td>\n",
       "      <td>116208.40</td>\n",
       "    </tr>\n",
       "    <tr>\n",
       "      <th>2</th>\n",
       "      <td>Mini Gifts Distributors Ltd.</td>\n",
       "      <td>111654.40</td>\n",
       "    </tr>\n",
       "    <tr>\n",
       "      <th>3</th>\n",
       "      <td>Dragon Souveniers, Ltd.</td>\n",
       "      <td>105743.00</td>\n",
       "    </tr>\n",
       "    <tr>\n",
       "      <th>4</th>\n",
       "      <td>Mini Gifts Distributors Ltd.</td>\n",
       "      <td>101244.59</td>\n",
       "    </tr>\n",
       "    <tr>\n",
       "      <th>5</th>\n",
       "      <td>Corporate Gift Ideas Co.</td>\n",
       "      <td>85559.12</td>\n",
       "    </tr>\n",
       "    <tr>\n",
       "      <th>6</th>\n",
       "      <td>Mini Gifts Distributors Ltd.</td>\n",
       "      <td>85410.87</td>\n",
       "    </tr>\n",
       "    <tr>\n",
       "      <th>7</th>\n",
       "      <td>Herkku Gifts</td>\n",
       "      <td>85024.46</td>\n",
       "    </tr>\n",
       "    <tr>\n",
       "      <th>8</th>\n",
       "      <td>Mini Gifts Distributors Ltd.</td>\n",
       "      <td>83598.04</td>\n",
       "    </tr>\n",
       "    <tr>\n",
       "      <th>9</th>\n",
       "      <td>Australian Collectors, Co.</td>\n",
       "      <td>82261.22</td>\n",
       "    </tr>\n",
       "  </tbody>\n",
       "</table>\n",
       "</div>"
      ],
      "text/plain": [
       "                   customerName     amount\n",
       "0        Euro+ Shopping Channel  120166.58\n",
       "1        Euro+ Shopping Channel  116208.40\n",
       "2  Mini Gifts Distributors Ltd.  111654.40\n",
       "3       Dragon Souveniers, Ltd.  105743.00\n",
       "4  Mini Gifts Distributors Ltd.  101244.59\n",
       "5      Corporate Gift Ideas Co.   85559.12\n",
       "6  Mini Gifts Distributors Ltd.   85410.87\n",
       "7                  Herkku Gifts   85024.46\n",
       "8  Mini Gifts Distributors Ltd.   83598.04\n",
       "9    Australian Collectors, Co.   82261.22"
      ]
     },
     "execution_count": 42,
     "metadata": {},
     "output_type": "execute_result"
    }
   ],
   "source": [
    "# Your code here \n",
    "# display our top 10 payments\n",
    "\n",
    "df = pd.read_sql(\"\"\"SELECT c.customerName, p.amount\n",
    "               FROM customers AS c\n",
    "               JOIN payments AS p\n",
    "               USING(customerNumber)\n",
    "               ORDER BY p.amount DESC\n",
    "               LIMIT 10;\"\"\", conn)\n",
    "df"
   ]
  },
  {
   "cell_type": "markdown",
   "metadata": {},
   "source": [
    "## Level Up: Display the names of every individual product that each employee has sold"
   ]
  },
  {
   "cell_type": "code",
   "execution_count": 47,
   "metadata": {},
   "outputs": [
    {
     "data": {
      "text/html": [
       "<div>\n",
       "<style scoped>\n",
       "    .dataframe tbody tr th:only-of-type {\n",
       "        vertical-align: middle;\n",
       "    }\n",
       "\n",
       "    .dataframe tbody tr th {\n",
       "        vertical-align: top;\n",
       "    }\n",
       "\n",
       "    .dataframe thead th {\n",
       "        text-align: right;\n",
       "    }\n",
       "</style>\n",
       "<table border=\"1\" class=\"dataframe\">\n",
       "  <thead>\n",
       "    <tr style=\"text-align: right;\">\n",
       "      <th></th>\n",
       "      <th>lastName</th>\n",
       "      <th>firstName</th>\n",
       "      <th>productName</th>\n",
       "    </tr>\n",
       "  </thead>\n",
       "  <tbody>\n",
       "    <tr>\n",
       "      <th>0</th>\n",
       "      <td>Jennings</td>\n",
       "      <td>Leslie</td>\n",
       "      <td>1958 Setra Bus</td>\n",
       "    </tr>\n",
       "    <tr>\n",
       "      <th>1</th>\n",
       "      <td>Jennings</td>\n",
       "      <td>Leslie</td>\n",
       "      <td>1940 Ford Pickup Truck</td>\n",
       "    </tr>\n",
       "    <tr>\n",
       "      <th>2</th>\n",
       "      <td>Jennings</td>\n",
       "      <td>Leslie</td>\n",
       "      <td>1939 Cadillac Limousine</td>\n",
       "    </tr>\n",
       "    <tr>\n",
       "      <th>3</th>\n",
       "      <td>Jennings</td>\n",
       "      <td>Leslie</td>\n",
       "      <td>1996 Peterbilt 379 Stake Bed with Outrigger</td>\n",
       "    </tr>\n",
       "    <tr>\n",
       "      <th>4</th>\n",
       "      <td>Jennings</td>\n",
       "      <td>Leslie</td>\n",
       "      <td>1968 Ford Mustang</td>\n",
       "    </tr>\n",
       "  </tbody>\n",
       "</table>\n",
       "</div>"
      ],
      "text/plain": [
       "   lastName firstName                                  productName\n",
       "0  Jennings    Leslie                               1958 Setra Bus\n",
       "1  Jennings    Leslie                       1940 Ford Pickup Truck\n",
       "2  Jennings    Leslie                      1939 Cadillac Limousine\n",
       "3  Jennings    Leslie  1996 Peterbilt 379 Stake Bed with Outrigger\n",
       "4  Jennings    Leslie                            1968 Ford Mustang"
      ]
     },
     "execution_count": 47,
     "metadata": {},
     "output_type": "execute_result"
    }
   ],
   "source": [
    "# Your code here\n",
    "q = \"\"\"SELECT employees.lastName, employees.firstName, products.productName \n",
    "               FROM employees \n",
    "               JOIN customers ON employees.employeeNumber = customers.salesRepEmployeeNumber\n",
    "               JOIN orders USING(customerNumber)\n",
    "               JOIN orderdetails USING(orderNumber)\n",
    "               JOIN products using(productCode)\n",
    "               ;\"\"\"\n",
    "\n",
    "cur.execute(q).fetchall()\n",
    "\n",
    "df = pd.read_sql(q, conn)\n",
    "df.shape\n",
    "df.head()"
   ]
  },
  {
   "cell_type": "markdown",
   "metadata": {},
   "source": [
    "## Level Up: Display the Number of Products each employee has sold"
   ]
  },
  {
   "cell_type": "code",
   "execution_count": 63,
   "metadata": {},
   "outputs": [
    {
     "data": {
      "text/plain": [
       "[('Andy', 'Fixter', 6246),\n",
       " ('Barry', 'Jones', 7486),\n",
       " ('Foon Yue', 'Tseng', 5016),\n",
       " ('George', 'Vanauf', 7423),\n",
       " ('Gerard', 'Hernandez', 14231),\n",
       " ('Julie', 'Firrelli', 4227),\n",
       " ('Larry', 'Bott', 8205),\n",
       " ('Leslie', 'Jennings', 11854),\n",
       " ('Leslie', 'Thompson', 4056),\n",
       " ('Loui', 'Bondur', 6186),\n",
       " ('Mami', 'Nishi', 4923),\n",
       " ('Martin', 'Gerard', 4180),\n",
       " ('Pamela', 'Castillo', 9290),\n",
       " ('Peter', 'Marsh', 6632),\n",
       " ('Steve', 'Patterson', 5561)]"
      ]
     },
     "execution_count": 63,
     "metadata": {},
     "output_type": "execute_result"
    }
   ],
   "source": [
    "# Your code here\n",
    "q = \"\"\"SELECT employees.firstName, employees.lastName, SUM(orderdetails.quantityOrdered)\n",
    "               FROM employees \n",
    "               JOIN customers ON employees.employeeNumber = customers.salesRepEmployeeNumber\n",
    "               JOIN orders USING(customerNumber)\n",
    "               JOIN orderdetails USING(orderNumber)\n",
    "               GROUP BY employees.employeeNumber\n",
    "               ORDER BY employees.firstName\n",
    "               ;\"\"\"\n",
    "\n",
    "cur.execute(q).fetchall()"
   ]
  },
  {
   "cell_type": "code",
   "execution_count": null,
   "metadata": {},
   "outputs": [],
   "source": []
  },
  {
   "cell_type": "markdown",
   "metadata": {},
   "source": [
    "## Summary"
   ]
  },
  {
   "cell_type": "markdown",
   "metadata": {},
   "source": [
    "Congrats! You practiced using join statements and leveraged your foreign keys knowledge!"
   ]
  }
 ],
 "metadata": {
  "kernelspec": {
   "display_name": "Python 3",
   "language": "python",
   "name": "python3"
  },
  "language_info": {
   "codemirror_mode": {
    "name": "ipython",
    "version": 3
   },
   "file_extension": ".py",
   "mimetype": "text/x-python",
   "name": "python",
   "nbconvert_exporter": "python",
   "pygments_lexer": "ipython3",
   "version": "3.6.9"
  },
  "toc": {
   "base_numbering": 1,
   "nav_menu": {},
   "number_sections": true,
   "sideBar": true,
   "skip_h1_title": false,
   "title_cell": "Table of Contents",
   "title_sidebar": "Contents",
   "toc_cell": false,
   "toc_position": {},
   "toc_section_display": true,
   "toc_window_display": false
  }
 },
 "nbformat": 4,
 "nbformat_minor": 2
}
